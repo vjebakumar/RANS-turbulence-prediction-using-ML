{
 "cells": [
  {
   "cell_type": "code",
   "execution_count": null,
   "metadata": {},
   "outputs": [],
   "source": [
    "import numpy as np\n",
    "import pandas as pd\n",
    "from numpy import linspace\n",
    "import math"
   ]
  },
  {
   "cell_type": "code",
   "execution_count": null,
   "metadata": {},
   "outputs": [],
   "source": [
    "import os\n",
    "from os import path\n",
    "from os import system"
   ]
  },
  {
   "cell_type": "code",
   "execution_count": null,
   "metadata": {},
   "outputs": [],
   "source": [
    "def replaceZeroes(data):\n",
    "    min_nonzero = np.min(data[np.nonzero(data)])\n",
    "    data[data == 0] = min_nonzero\n",
    "    return data"
   ]
  },
  {
   "cell_type": "code",
   "execution_count": null,
   "metadata": {},
   "outputs": [],
   "source": [
    "LINE = 20"
   ]
  },
  {
   "cell_type": "code",
   "execution_count": null,
   "metadata": {},
   "outputs": [],
   "source": [
    "def read_scalar(filename):\n",
    "    # Read file\n",
    "    file = open(filename,'r')\n",
    "    lines_1 = file.readlines()\n",
    "    file.close()\n",
    "\n",
    "    num_cells_internal = int(lines_1[LINE].strip('\\n'))\n",
    "    lines_1 = lines_1[LINE+2:LINE+2+num_cells_internal]\n",
    "\n",
    "    for i in range(len(lines_1)):\n",
    "        lines_1[i] = lines_1[i].strip('\\n')\n",
    "\n",
    "    field = np.asarray(lines_1).astype('double').reshape(num_cells_internal,1)\n",
    "    field = replaceZeroes(field)\n",
    "\n",
    "    return field"
   ]
  },
  {
   "cell_type": "code",
   "execution_count": null,
   "metadata": {},
   "outputs": [],
   "source": [
    "def read_vector(filename): # Only x,y components\n",
    "    file = open(filename,'r')\n",
    "    lines_1 = file.readlines()\n",
    "    file.close()\n",
    "\n",
    "    num_cells_internal = int(lines_1[LINE].strip('\\n'))\n",
    "    lines_1 = lines_1[LINE+2:LINE+2+num_cells_internal]\n",
    "\n",
    "    for i in range(len(lines_1)):\n",
    "        lines_1[i] = lines_1[i].strip('\\n')\n",
    "        lines_1[i] = lines_1[i].strip('(')\n",
    "        lines_1[i] = lines_1[i].strip(')')\n",
    "        lines_1[i] = lines_1[i].split()\n",
    "\n",
    "    field = np.asarray(lines_1).astype('double')[:,:2]\n",
    "\n",
    "    return field"
   ]
  },
  {
   "cell_type": "code",
   "execution_count": null,
   "metadata": {},
   "outputs": [],
   "source": [
    "def read_mean_vector(filename): # Only x,y components\n",
    "    file = open(filename,'r')\n",
    "    lines_1 = file.readlines()\n",
    "    file.close()\n",
    "\n",
    "    num_cells_internal = int(lines_1[LINE].strip('\\n'))\n",
    "    lines_1 = lines_1[LINE+2:LINE+2+num_cells_internal]\n",
    "\n",
    "    for i in range(len(lines_1)):\n",
    "        lines_1[i] = lines_1[i].strip('\\n')\n",
    "        lines_1[i] = lines_1[i].strip('(')\n",
    "        lines_1[i] = lines_1[i].strip(')')\n",
    "        lines_1[i] = lines_1[i].split()\n",
    "\n",
    "    field = np.asarray(lines_1).astype('double')[:,:3]\n",
    "\n",
    "    return field"
   ]
  },
  {
   "cell_type": "code",
   "execution_count": null,
   "metadata": {},
   "outputs": [],
   "source": [
    "def read_symmTensor(filename): # Only x,y components\n",
    "    file = open(filename,'r')\n",
    "    lines_1 = file.readlines()\n",
    "    file.close()\n",
    "\n",
    "    num_cells_internal = int(lines_1[LINE].strip('\\n'))\n",
    "    lines_1 = lines_1[LINE+2:LINE+2+num_cells_internal]\n",
    "\n",
    "    for i in range(len(lines_1)):\n",
    "        lines_1[i] = lines_1[i].strip('\\n')\n",
    "        lines_1[i] = lines_1[i].strip('(')\n",
    "        lines_1[i] = lines_1[i].strip(')')\n",
    "        lines_1[i] = lines_1[i].split()\n",
    "\n",
    "    field = np.asarray(lines_1).astype('double')[:,3:4]\n",
    "\n",
    "    return field"
   ]
  },
  {
   "cell_type": "code",
   "execution_count": null,
   "metadata": {},
   "outputs": [],
   "source": [
    "def read_stress_vector(filename): # Only x,y components\n",
    "    file = open(filename,'r')\n",
    "    lines_1 = file.readlines()\n",
    "    file.close()\n",
    "\n",
    "    num_cells_internal = int(lines_1[LINE].strip('\\n'))\n",
    "    lines_1 = lines_1[LINE+2:LINE+2+num_cells_internal]\n",
    "\n",
    "    for i in range(len(lines_1)):\n",
    "        lines_1[i] = lines_1[i].strip('\\n')\n",
    "        lines_1[i] = lines_1[i].strip('(')\n",
    "        lines_1[i] = lines_1[i].strip(')')\n",
    "        lines_1[i] = lines_1[i].split()\n",
    "\n",
    "    field = np.asarray(lines_1).astype('double')[:,:6]\n",
    "\n",
    "    return field"
   ]
  },
  {
   "cell_type": "code",
   "execution_count": null,
   "metadata": {},
   "outputs": [],
   "source": [
    "def find_max(path,filename):\n",
    "    path = os.chdir(path)\n",
    "    with open(filename, 'r') as inF:\n",
    "        for line in inF:\n",
    "            if 'SIMPLE solution converged in' in line:\n",
    "                print (\"true\")\n",
    "                temp   = line.rsplit()\n",
    "                number = temp[4]  \n",
    "    return number"
   ]
  },
  {
   "cell_type": "code",
   "execution_count": null,
   "metadata": {},
   "outputs": [],
   "source": [
    "def find_flap_aoa(foldername):\n",
    "    temp = foldername.split('_')\n",
    "    print(temp)\n",
    "    flap,aoa = int(temp[3]),int(temp[5])\n",
    "    flap = math.radians(flap) \n",
    "    aoa = math.radians(aoa) \n",
    "    return flap,aoa"
   ]
  },
  {
   "cell_type": "code",
   "execution_count": null,
   "metadata": {},
   "outputs": [],
   "source": [
    "def read_data(path):\n",
    "    path = os.chdir(path)\n",
    "    U = read_vector(f'U')\n",
    "    C = read_vector(f'C')\n",
    "    Umean = read_vector(f'UMean')\n",
    "    nut = read_scalar(f'nut')\n",
    "\n",
    "    temp_dataset = np.concatenate((U,C,Umean,nut),axis=-1)\n",
    "\n",
    "    type(temp_dataset)\n",
    "    \n",
    "    return temp_dataset\n",
    "    \n"
   ]
  },
  {
   "cell_type": "code",
   "execution_count": null,
   "metadata": {},
   "outputs": [],
   "source": [
    "def find_factor(list_path):\n",
    "#     path = os.chdir((os.path.join(list_path,'system')))\n",
    "    path = os.chdir((os.path.join(list_path,'system')))\n",
    "    print(path)\n",
    "    with open('blockMeshDict', 'r') as inF:\n",
    "        for line in inF:\n",
    "            if 'factor1' in line:\n",
    "                print (\"true\")\n",
    "                temp   = line.rsplit()\n",
    "                factor1 = (temp[1])\n",
    "                factor1 = float(factor1.replace(\";\", \"\"))\n",
    "                \n",
    "            if 'factor2' in line:\n",
    "                print (\"true\")\n",
    "                temp   = line.rsplit()\n",
    "                factor2 = (temp[1])\n",
    "                factor2 = float(factor2.replace(\";\", \"\"))\n",
    "                \n",
    "    \n",
    "    return factor1,factor2"
   ]
  },
  {
   "cell_type": "code",
   "execution_count": null,
   "metadata": {
    "scrolled": true
   },
   "outputs": [],
   "source": [
    "if __name__ == '__main__':\n",
    "    print('Velocity reader file')\n",
    "    \n",
    "temp_dataset = []\n",
    "total_dataset = []\n",
    "dir_path = os.path.abspath('## local path of openfoam runs ##')\n",
    "print(dir_path)\n",
    "\n",
    "folders = os.listdir(dir_path)\n",
    "\n",
    "if os.path.isdir(dir_path): # Check this path = path to folder\n",
    "    for folder in folders:\n",
    "        print(folders)\n",
    "        if folder !=  '.ipynb_checkpoints':\n",
    "            flap,aoa = find_flap_aoa(folder)\n",
    "            print(flap)\n",
    "            print(aoa)\n",
    "            print('-------------------------------')\n",
    "            sub_folders = os.listdir(os.path.join(dir_path,folder))\n",
    "            if os.path.isdir(os.path.join(dir_path,folder)): # Check this path = path to folder\n",
    "                print(\"the sub folder are:\",sub_folders)\n",
    "                print('--------------------------------')\n",
    "\n",
    "                   \n",
    "            for each_folder in sub_folders:\n",
    "                print(each_folder)\n",
    "                list_path = os.path.join(dir_path,folder,each_folder)\n",
    "                os.path.join(list_path)                                  \n",
    "                if os.path.isdir(list_path): # Check this path = path to folder\n",
    "                    list_folders = os.listdir(list_path)\n",
    "                    print (list_folders)\n",
    "                    print(list_path)\n",
    "                    max_folder = find_max(list_path,f'log')\n",
    "                    print(max_folder)\n",
    "                    file_path = os.path.join(list_path,max_folder)\n",
    "                    list_files = os.listdir(os.path.join(list_path,max_folder))\n",
    "                    temp_data = read_data(file_path)\n",
    "                    print(temp_data)\n",
    "                    print(temp_data.shape)\n",
    "                temp_dataset.append(temp_data)\n",
    "\n",
    "\n",
    "#             total_dataset.append(temp_data)\n",
    "\n",
    "total_dataset = np.reshape(temp_dataset, (-1,7))\n",
    "\n",
    "print(total_dataset.shape)\n",
    "\n",
    "# Save data  \n",
    "path = os.chdir(dir_path)\n",
    "np.save('Total_dataset.npy',total_dataset)\n",
    "\n",
    "# Save the statistics of the data\n",
    "means = np.mean(total_dataset,axis=0).reshape(1,np.shape(total_dataset)[1])\n",
    "stds = np.std(total_dataset,axis=0).reshape(1,np.shape(total_dataset)[1])\n",
    "\n",
    "# Concatenate\n",
    "op_data = np.concatenate((means,stds),axis=0)\n",
    "np.savetxt('means',op_data, delimiter=' ')\n",
    "\n",
    "# Need to write out in OpenFOAM rectangular matrix format\n",
    "\n",
    "print('Means:')\n",
    "print(means)\n",
    "print('Stds:')\n",
    "print(stds)\n",
    "\n",
    "                "
   ]
  },
  {
   "cell_type": "code",
   "execution_count": null,
   "metadata": {},
   "outputs": [],
   "source": []
  },
  {
   "cell_type": "code",
   "execution_count": null,
   "metadata": {},
   "outputs": [],
   "source": []
  }
 ],
 "metadata": {
  "kernelspec": {
   "display_name": "Python 3",
   "language": "python",
   "name": "python3"
  },
  "language_info": {
   "codemirror_mode": {
    "name": "ipython",
    "version": 3
   },
   "file_extension": ".py",
   "mimetype": "text/x-python",
   "name": "python",
   "nbconvert_exporter": "python",
   "pygments_lexer": "ipython3",
   "version": "3.8.5"
  }
 },
 "nbformat": 4,
 "nbformat_minor": 4
}

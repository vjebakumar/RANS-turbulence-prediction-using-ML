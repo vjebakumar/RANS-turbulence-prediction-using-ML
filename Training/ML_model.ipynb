{
 "cells": [
  {
   "cell_type": "code",
   "execution_count": 1,
   "metadata": {},
   "outputs": [],
   "source": [
    "# Fixing paths\n",
    "import os\n",
    "import sys\n",
    "import numpy as np\n",
    "import tensorflow as tf\n",
    "from tensorflow import keras, py_func\n",
    "from sklearn.preprocessing import StandardScaler, MinMaxScaler\n",
    "from sklearn.pipeline import Pipeline\n",
    "import joblib\n",
    "from sklearn.metrics import r2_score"
   ]
  },
  {
   "cell_type": "code",
   "execution_count": 2,
   "metadata": {},
   "outputs": [],
   "source": [
    "from tensorflow.keras.models import Sequential\n",
    "from tensorflow.keras.layers import Dense, BatchNormalization"
   ]
  },
  {
   "cell_type": "code",
   "execution_count": 3,
   "metadata": {},
   "outputs": [],
   "source": [
    "from tensorflow.keras.callbacks import TensorBoard"
   ]
  },
  {
   "cell_type": "code",
   "execution_count": 4,
   "metadata": {},
   "outputs": [],
   "source": [
    "np.random.seed(10)\n",
    "tf.set_random_seed(10)"
   ]
  },
  {
   "cell_type": "code",
   "execution_count": 5,
   "metadata": {},
   "outputs": [],
   "source": [
    "def r2_2(y_true, y_pred):\n",
    "    res = py_func(r2_score, [y_true, y_pred], tf.float64)\n",
    "    return res"
   ]
  },
  {
   "cell_type": "code",
   "execution_count": 6,
   "metadata": {},
   "outputs": [],
   "source": [
    "def freeze_session(session, keep_var_names=None, output_names=None, clear_devices=True):\n",
    "    \"\"\"\n",
    "    Freezes the state of a session into a pruned computation graph.\n",
    "\n",
    "    Creates a new computation graph where variable nodes are replaced by\n",
    "    constants taking their current value in the session. The new graph will be\n",
    "    pruned so subgraphs that are not necessary to compute the requested\n",
    "    outputs are removed.\n",
    "    @param session The TensorFlow session to be frozen.\n",
    "    @param keep_var_names A list of variable names that should not be frozen,\n",
    "                          or None to freeze all the variables in the graph.\n",
    "    @param output_names Names of the relevant graph outputs.\n",
    "    @param clear_devices Remove the device directives from the graph for better portability.\n",
    "    @return The frozen graph definition.\n",
    "    \"\"\"\n",
    "    graph = session.graph\n",
    "    with graph.as_default():\n",
    "        freeze_var_names = list(set(v.op.name for v in tf.global_variables()).difference(keep_var_names or []))\n",
    "        output_names = output_names or []\n",
    "        output_names += [v.op.name for v in tf.global_variables()]\n",
    "        input_graph_def = graph.as_graph_def()\n",
    "        if clear_devices:\n",
    "            for node in input_graph_def.node:\n",
    "                node.device = \"\"\n",
    "        frozen_graph = tf.graph_util.convert_variables_to_constants(\n",
    "            session, input_graph_def, output_names, freeze_var_names)\n",
    "        return frozen_graph"
   ]
  },
  {
   "cell_type": "code",
   "execution_count": null,
   "metadata": {},
   "outputs": [],
   "source": []
  },
  {
   "cell_type": "markdown",
   "metadata": {},
   "source": [
    "## Load model"
   ]
  },
  {
   "cell_type": "code",
   "execution_count": 7,
   "metadata": {},
   "outputs": [],
   "source": [
    "total_data = np.load('/home/jeba/Thesis/Airfoil/test_airfoil/NACA2412/lower_velocity/E2_acrossBC_mean/training/baseline_fig/Total_dataset.npy')"
   ]
  },
  {
   "cell_type": "code",
   "execution_count": 8,
   "metadata": {
    "scrolled": true
   },
   "outputs": [
    {
     "data": {
      "text/plain": [
       "(132480, 7)"
      ]
     },
     "execution_count": 8,
     "metadata": {},
     "output_type": "execute_result"
    }
   ],
   "source": [
    "total_data.shape"
   ]
  },
  {
   "cell_type": "code",
   "execution_count": 9,
   "metadata": {},
   "outputs": [],
   "source": [
    "import pandas as pd"
   ]
  },
  {
   "cell_type": "code",
   "execution_count": 10,
   "metadata": {},
   "outputs": [],
   "source": [
    "b = pd.DataFrame(total_data)"
   ]
  },
  {
   "cell_type": "code",
   "execution_count": 11,
   "metadata": {},
   "outputs": [
    {
     "data": {
      "text/html": [
       "<div>\n",
       "<style scoped>\n",
       "    .dataframe tbody tr th:only-of-type {\n",
       "        vertical-align: middle;\n",
       "    }\n",
       "\n",
       "    .dataframe tbody tr th {\n",
       "        vertical-align: top;\n",
       "    }\n",
       "\n",
       "    .dataframe thead th {\n",
       "        text-align: right;\n",
       "    }\n",
       "</style>\n",
       "<table border=\"1\" class=\"dataframe\">\n",
       "  <thead>\n",
       "    <tr style=\"text-align: right;\">\n",
       "      <th></th>\n",
       "      <th>0</th>\n",
       "      <th>1</th>\n",
       "      <th>2</th>\n",
       "      <th>3</th>\n",
       "      <th>4</th>\n",
       "      <th>5</th>\n",
       "      <th>6</th>\n",
       "    </tr>\n",
       "  </thead>\n",
       "  <tbody>\n",
       "    <tr>\n",
       "      <th>0</th>\n",
       "      <td>3.98425</td>\n",
       "      <td>5.246330</td>\n",
       "      <td>-0.000908</td>\n",
       "      <td>0.004861</td>\n",
       "      <td>3.97005</td>\n",
       "      <td>4.634810</td>\n",
       "      <td>0.000006</td>\n",
       "    </tr>\n",
       "    <tr>\n",
       "      <th>1</th>\n",
       "      <td>8.01734</td>\n",
       "      <td>13.937600</td>\n",
       "      <td>0.003210</td>\n",
       "      <td>0.013944</td>\n",
       "      <td>7.86945</td>\n",
       "      <td>13.398700</td>\n",
       "      <td>0.000013</td>\n",
       "    </tr>\n",
       "    <tr>\n",
       "      <th>2</th>\n",
       "      <td>12.92110</td>\n",
       "      <td>16.731300</td>\n",
       "      <td>0.010620</td>\n",
       "      <td>0.021755</td>\n",
       "      <td>12.72460</td>\n",
       "      <td>16.329900</td>\n",
       "      <td>0.000038</td>\n",
       "    </tr>\n",
       "    <tr>\n",
       "      <th>3</th>\n",
       "      <td>16.49880</td>\n",
       "      <td>16.472600</td>\n",
       "      <td>0.019966</td>\n",
       "      <td>0.028463</td>\n",
       "      <td>16.31860</td>\n",
       "      <td>16.190500</td>\n",
       "      <td>0.000103</td>\n",
       "    </tr>\n",
       "    <tr>\n",
       "      <th>4</th>\n",
       "      <td>18.83310</td>\n",
       "      <td>15.237400</td>\n",
       "      <td>0.030671</td>\n",
       "      <td>0.034412</td>\n",
       "      <td>18.68270</td>\n",
       "      <td>15.026700</td>\n",
       "      <td>0.000222</td>\n",
       "    </tr>\n",
       "    <tr>\n",
       "      <th>...</th>\n",
       "      <td>...</td>\n",
       "      <td>...</td>\n",
       "      <td>...</td>\n",
       "      <td>...</td>\n",
       "      <td>...</td>\n",
       "      <td>...</td>\n",
       "      <td>...</td>\n",
       "    </tr>\n",
       "    <tr>\n",
       "      <th>132475</th>\n",
       "      <td>25.67040</td>\n",
       "      <td>-0.023488</td>\n",
       "      <td>17.005500</td>\n",
       "      <td>-0.020538</td>\n",
       "      <td>25.63140</td>\n",
       "      <td>-0.020293</td>\n",
       "      <td>0.001840</td>\n",
       "    </tr>\n",
       "    <tr>\n",
       "      <th>132476</th>\n",
       "      <td>25.66850</td>\n",
       "      <td>-0.022609</td>\n",
       "      <td>17.822100</td>\n",
       "      <td>-0.021480</td>\n",
       "      <td>25.63120</td>\n",
       "      <td>-0.019374</td>\n",
       "      <td>0.001859</td>\n",
       "    </tr>\n",
       "    <tr>\n",
       "      <th>132477</th>\n",
       "      <td>25.66770</td>\n",
       "      <td>-0.021435</td>\n",
       "      <td>18.678800</td>\n",
       "      <td>-0.022469</td>\n",
       "      <td>25.63210</td>\n",
       "      <td>-0.018366</td>\n",
       "      <td>0.001875</td>\n",
       "    </tr>\n",
       "    <tr>\n",
       "      <th>132478</th>\n",
       "      <td>25.66660</td>\n",
       "      <td>-0.021252</td>\n",
       "      <td>19.577700</td>\n",
       "      <td>-0.023507</td>\n",
       "      <td>25.63230</td>\n",
       "      <td>-0.018044</td>\n",
       "      <td>0.001888</td>\n",
       "    </tr>\n",
       "    <tr>\n",
       "      <th>132479</th>\n",
       "      <td>25.66640</td>\n",
       "      <td>-0.020531</td>\n",
       "      <td>20.520800</td>\n",
       "      <td>-0.024596</td>\n",
       "      <td>25.63390</td>\n",
       "      <td>-0.017416</td>\n",
       "      <td>0.001913</td>\n",
       "    </tr>\n",
       "  </tbody>\n",
       "</table>\n",
       "<p>132480 rows × 7 columns</p>\n",
       "</div>"
      ],
      "text/plain": [
       "               0          1          2         3         4          5  \\\n",
       "0        3.98425   5.246330  -0.000908  0.004861   3.97005   4.634810   \n",
       "1        8.01734  13.937600   0.003210  0.013944   7.86945  13.398700   \n",
       "2       12.92110  16.731300   0.010620  0.021755  12.72460  16.329900   \n",
       "3       16.49880  16.472600   0.019966  0.028463  16.31860  16.190500   \n",
       "4       18.83310  15.237400   0.030671  0.034412  18.68270  15.026700   \n",
       "...          ...        ...        ...       ...       ...        ...   \n",
       "132475  25.67040  -0.023488  17.005500 -0.020538  25.63140  -0.020293   \n",
       "132476  25.66850  -0.022609  17.822100 -0.021480  25.63120  -0.019374   \n",
       "132477  25.66770  -0.021435  18.678800 -0.022469  25.63210  -0.018366   \n",
       "132478  25.66660  -0.021252  19.577700 -0.023507  25.63230  -0.018044   \n",
       "132479  25.66640  -0.020531  20.520800 -0.024596  25.63390  -0.017416   \n",
       "\n",
       "               6  \n",
       "0       0.000006  \n",
       "1       0.000013  \n",
       "2       0.000038  \n",
       "3       0.000103  \n",
       "4       0.000222  \n",
       "...          ...  \n",
       "132475  0.001840  \n",
       "132476  0.001859  \n",
       "132477  0.001875  \n",
       "132478  0.001888  \n",
       "132479  0.001913  \n",
       "\n",
       "[132480 rows x 7 columns]"
      ]
     },
     "execution_count": 11,
     "metadata": {},
     "output_type": "execute_result"
    }
   ],
   "source": [
    "b"
   ]
  },
  {
   "cell_type": "code",
   "execution_count": 12,
   "metadata": {},
   "outputs": [],
   "source": [
    "total_samples = np.shape(total_data)[0]"
   ]
  },
  {
   "cell_type": "code",
   "execution_count": 13,
   "metadata": {},
   "outputs": [],
   "source": [
    "np.random.shuffle(total_data) # Randomizing data"
   ]
  },
  {
   "cell_type": "code",
   "execution_count": 14,
   "metadata": {},
   "outputs": [],
   "source": [
    "mv_scaler = StandardScaler()"
   ]
  },
  {
   "cell_type": "code",
   "execution_count": 15,
   "metadata": {},
   "outputs": [
    {
     "data": {
      "text/plain": [
       "StandardScaler(copy=True, with_mean=True, with_std=True)"
      ]
     },
     "execution_count": 15,
     "metadata": {},
     "output_type": "execute_result"
    }
   ],
   "source": [
    "mv_scaler.fit(total_data[:,:])"
   ]
  },
  {
   "cell_type": "code",
   "execution_count": 16,
   "metadata": {},
   "outputs": [],
   "source": [
    "mv_scaler_filename = \"mv_scaler.save\""
   ]
  },
  {
   "cell_type": "code",
   "execution_count": 17,
   "metadata": {},
   "outputs": [
    {
     "data": {
      "text/plain": [
       "['mv_scaler.save']"
      ]
     },
     "execution_count": 17,
     "metadata": {},
     "output_type": "execute_result"
    }
   ],
   "source": [
    "joblib.dump(mv_scaler, mv_scaler_filename)"
   ]
  },
  {
   "cell_type": "code",
   "execution_count": 18,
   "metadata": {},
   "outputs": [],
   "source": [
    "total_data[:,:] = mv_scaler.transform(total_data[:,:])"
   ]
  },
  {
   "cell_type": "code",
   "execution_count": 19,
   "metadata": {},
   "outputs": [
    {
     "data": {
      "text/plain": [
       "array([[ 1.63199171, -1.69156703, -0.5829659 , ...,  1.59597665,\n",
       "        -1.70664634, -0.23628626],\n",
       "       [-0.65408875,  0.16663115, -1.07016076, ..., -0.65549216,\n",
       "         0.16150547, -0.24281452],\n",
       "       [-1.05422642,  0.20820852, -0.53419464, ..., -1.03510862,\n",
       "         0.2232486 , -0.24277904],\n",
       "       ...,\n",
       "       [ 1.49472373,  0.02909214, -0.4385281 , ...,  1.50147858,\n",
       "         0.03543204, -0.2428154 ],\n",
       "       [ 1.43271954,  0.01199768, -0.55720115, ...,  1.45123841,\n",
       "         0.0080508 , -0.24281198],\n",
       "       [ 0.931555  ,  0.0232898 , -0.50745233, ...,  0.94058065,\n",
       "         0.02663244, -0.24281548]])"
      ]
     },
     "execution_count": 19,
     "metadata": {},
     "output_type": "execute_result"
    }
   ],
   "source": [
    "total_data"
   ]
  },
  {
   "cell_type": "markdown",
   "metadata": {},
   "source": [
    "### Randomize the data"
   ]
  },
  {
   "cell_type": "code",
   "execution_count": 20,
   "metadata": {},
   "outputs": [],
   "source": [
    "np.random.shuffle(total_data)"
   ]
  },
  {
   "cell_type": "code",
   "execution_count": 21,
   "metadata": {},
   "outputs": [],
   "source": [
    "num_outputs = 1\n",
    "num_inputs = np.shape(total_data)[1] - num_outputs"
   ]
  },
  {
   "cell_type": "code",
   "execution_count": 22,
   "metadata": {},
   "outputs": [],
   "source": [
    "training_inputs = total_data[:,0:num_inputs]"
   ]
  },
  {
   "cell_type": "code",
   "execution_count": 23,
   "metadata": {},
   "outputs": [],
   "source": [
    "training_outputs = total_data[:,num_inputs:].reshape(total_samples,num_outputs)"
   ]
  },
  {
   "cell_type": "code",
   "execution_count": 24,
   "metadata": {},
   "outputs": [
    {
     "data": {
      "text/plain": [
       "(132480, 6)"
      ]
     },
     "execution_count": 24,
     "metadata": {},
     "output_type": "execute_result"
    }
   ],
   "source": [
    "training_inputs.shape"
   ]
  },
  {
   "cell_type": "code",
   "execution_count": null,
   "metadata": {},
   "outputs": [],
   "source": []
  },
  {
   "cell_type": "markdown",
   "metadata": {},
   "source": [
    "## Get Model"
   ]
  },
  {
   "cell_type": "code",
   "execution_count": 25,
   "metadata": {},
   "outputs": [],
   "source": [
    "num_neurons = 60\n",
    "num_layers = 6\n",
    "num_epochs = 500"
   ]
  },
  {
   "cell_type": "code",
   "execution_count": 26,
   "metadata": {},
   "outputs": [],
   "source": [
    "ph_input = keras.Input(shape=(num_inputs,),name='input_placeholder')"
   ]
  },
  {
   "cell_type": "code",
   "execution_count": 27,
   "metadata": {},
   "outputs": [
    {
     "name": "stderr",
     "output_type": "stream",
     "text": [
      "WARNING: Logging before flag parsing goes to stderr.\n",
      "W1029 15:02:48.857130 140083208984384 deprecation.py:506] From /home/jeba/tensorflow-venv/lib/python3.6/site-packages/tensorflow_core/python/ops/resource_variable_ops.py:1630: calling BaseResourceVariable.__init__ (from tensorflow.python.ops.resource_variable_ops) with constraint is deprecated and will be removed in a future version.\n",
      "Instructions for updating:\n",
      "If using Keras pass *_constraint arguments to layers.\n"
     ]
    }
   ],
   "source": [
    "hidden_layer = keras.layers.Dense(num_neurons,activation='tanh')(ph_input)"
   ]
  },
  {
   "cell_type": "code",
   "execution_count": 28,
   "metadata": {},
   "outputs": [],
   "source": [
    "for layer in range(num_layers):\n",
    "        hidden_layer = keras.layers.Dense(num_neurons,activation='tanh')(hidden_layer)"
   ]
  },
  {
   "cell_type": "code",
   "execution_count": 29,
   "metadata": {},
   "outputs": [],
   "source": [
    "output = keras.layers.Dense(num_outputs,activation='linear',name='output_value')(hidden_layer)"
   ]
  },
  {
   "cell_type": "code",
   "execution_count": null,
   "metadata": {},
   "outputs": [],
   "source": []
  },
  {
   "cell_type": "code",
   "execution_count": 30,
   "metadata": {},
   "outputs": [],
   "source": [
    "model = keras.Model(inputs=[ph_input],outputs=[output])"
   ]
  },
  {
   "cell_type": "code",
   "execution_count": null,
   "metadata": {},
   "outputs": [],
   "source": []
  },
  {
   "cell_type": "code",
   "execution_count": 31,
   "metadata": {},
   "outputs": [],
   "source": [
    "#keras.utils.plot_model(model, 'ml_model.png', show_shapes=True)"
   ]
  },
  {
   "cell_type": "code",
   "execution_count": 32,
   "metadata": {},
   "outputs": [],
   "source": [
    "loss = tf.keras.losses.MeanSquaredError()"
   ]
  },
  {
   "cell_type": "code",
   "execution_count": 33,
   "metadata": {},
   "outputs": [],
   "source": [
    "my_adam = keras.optimizers.Adam(lr=0.001, decay=0.0)"
   ]
  },
  {
   "cell_type": "code",
   "execution_count": 34,
   "metadata": {},
   "outputs": [],
   "source": [
    "## extra_ops = tf.get_collection(tf.GraphKeys.UPDATE_OPS)\n"
   ]
  },
  {
   "cell_type": "code",
   "execution_count": 35,
   "metadata": {},
   "outputs": [],
   "source": [
    "## with tf.control_dependencies(extra_ops):\n",
    "##    train_op = my_adam.minimize(loss)"
   ]
  },
  {
   "cell_type": "code",
   "execution_count": 36,
   "metadata": {},
   "outputs": [
    {
     "name": "stderr",
     "output_type": "stream",
     "text": [
      "W1029 15:02:49.058226 140083208984384 deprecation.py:323] From <ipython-input-5-336ece99eb7d>:2: py_func (from tensorflow.python.ops.script_ops) is deprecated and will be removed in a future version.\n",
      "Instructions for updating:\n",
      "tf.py_func is deprecated in TF V2. Instead, there are two\n",
      "    options available in V2.\n",
      "    - tf.py_function takes a python function which manipulates tf eager\n",
      "    tensors instead of numpy arrays. It's easy to convert a tf eager tensor to\n",
      "    an ndarray (just call tensor.numpy()) but having access to eager tensors\n",
      "    means `tf.py_function`s can use accelerators such as GPUs as well as\n",
      "    being differentiable using a gradient tape.\n",
      "    - tf.numpy_function maintains the semantics of the deprecated tf.py_func\n",
      "    (it is not differentiable, and manipulates numpy arrays). It drops the\n",
      "    stateful argument making all functions stateful.\n",
      "    \n"
     ]
    }
   ],
   "source": [
    "model.compile(optimizer=my_adam,loss={'output_value': 'mean_squared_error'},metrics=[r2_2])"
   ]
  },
  {
   "cell_type": "code",
   "execution_count": 37,
   "metadata": {},
   "outputs": [
    {
     "name": "stdout",
     "output_type": "stream",
     "text": [
      "Model: \"model\"\n",
      "_________________________________________________________________\n",
      "Layer (type)                 Output Shape              Param #   \n",
      "=================================================================\n",
      "input_placeholder (InputLaye [(None, 6)]               0         \n",
      "_________________________________________________________________\n",
      "dense (Dense)                (None, 60)                420       \n",
      "_________________________________________________________________\n",
      "dense_1 (Dense)              (None, 60)                3660      \n",
      "_________________________________________________________________\n",
      "dense_2 (Dense)              (None, 60)                3660      \n",
      "_________________________________________________________________\n",
      "dense_3 (Dense)              (None, 60)                3660      \n",
      "_________________________________________________________________\n",
      "dense_4 (Dense)              (None, 60)                3660      \n",
      "_________________________________________________________________\n",
      "dense_5 (Dense)              (None, 60)                3660      \n",
      "_________________________________________________________________\n",
      "dense_6 (Dense)              (None, 60)                3660      \n",
      "_________________________________________________________________\n",
      "output_value (Dense)         (None, 1)                 61        \n",
      "=================================================================\n",
      "Total params: 22,441\n",
      "Trainable params: 22,441\n",
      "Non-trainable params: 0\n",
      "_________________________________________________________________\n"
     ]
    }
   ],
   "source": [
    "model.summary()"
   ]
  },
  {
   "cell_type": "code",
   "execution_count": null,
   "metadata": {},
   "outputs": [],
   "source": []
  },
  {
   "cell_type": "markdown",
   "metadata": {},
   "source": [
    "## calback and fit model"
   ]
  },
  {
   "cell_type": "code",
   "execution_count": 38,
   "metadata": {},
   "outputs": [],
   "source": [
    " model_path = './model.h5'"
   ]
  },
  {
   "cell_type": "code",
   "execution_count": 39,
   "metadata": {},
   "outputs": [],
   "source": [
    "tbCallBack = keras.callbacks.TensorBoard(log_dir='./Graph', histogram_freq=0, write_graph=True, write_images=True)"
   ]
  },
  {
   "cell_type": "code",
   "execution_count": 40,
   "metadata": {},
   "outputs": [],
   "source": [
    "checkpoint = keras.callbacks.ModelCheckpoint(model_path, monitor='val_loss', verbose=1,save_best_only=True, mode='min',save_weights_only=False)"
   ]
  },
  {
   "cell_type": "code",
   "execution_count": 41,
   "metadata": {},
   "outputs": [],
   "source": [
    "csv_logger = keras.callbacks.CSVLogger('training.log')"
   ]
  },
  {
   "cell_type": "code",
   "execution_count": 42,
   "metadata": {},
   "outputs": [],
   "source": [
    "earlystopping = keras.callbacks.EarlyStopping(monitor='val_loss', min_delta=0, patience=10, verbose=0, mode='auto', baseline=None, restore_best_weights=False)"
   ]
  },
  {
   "cell_type": "code",
   "execution_count": 43,
   "metadata": {
    "scrolled": true
   },
   "outputs": [
    {
     "name": "stdout",
     "output_type": "stream",
     "text": [
      "Train on 119232 samples, validate on 13248 samples\n",
      "Epoch 1/500\n",
      "115712/119232 [============================>.] - ETA: 0s - loss: 0.8828 - r2_2: 0.1169\n",
      "Epoch 00001: val_loss improved from inf to 0.69239, saving model to ./model.h5\n",
      "119232/119232 [==============================] - 1s 11us/sample - loss: 0.8719 - r2_2: 0.1281 - val_loss: 0.6924 - val_r2_2: 0.3154\n",
      "Epoch 2/500\n",
      "115712/119232 [============================>.] - ETA: 0s - loss: 0.4006 - r2_2: 0.5961\n",
      "Epoch 00002: val_loss improved from 0.69239 to 0.25689, saving model to ./model.h5\n",
      "119232/119232 [==============================] - 1s 7us/sample - loss: 0.3957 - r2_2: 0.6024 - val_loss: 0.2569 - val_r2_2: 0.7492\n",
      "Epoch 3/500\n",
      "115712/119232 [============================>.] - ETA: 0s - loss: 0.2770 - r2_2: 0.7195\n",
      "Epoch 00003: val_loss did not improve from 0.25689\n",
      "119232/119232 [==============================] - 1s 6us/sample - loss: 0.2777 - r2_2: 0.7204 - val_loss: 0.2934 - val_r2_2: 0.7108\n",
      "Epoch 4/500\n",
      "110592/119232 [==========================>...] - ETA: 0s - loss: 0.2626 - r2_2: 0.7350\n",
      "Epoch 00004: val_loss did not improve from 0.25689\n",
      "119232/119232 [==============================] - 1s 6us/sample - loss: 0.2630 - r2_2: 0.7352 - val_loss: 0.2803 - val_r2_2: 0.7173\n",
      "Epoch 5/500\n",
      "112640/119232 [===========================>..] - ETA: 0s - loss: 0.2281 - r2_2: 0.7707\n",
      "Epoch 00005: val_loss improved from 0.25689 to 0.24145, saving model to ./model.h5\n",
      "119232/119232 [==============================] - 1s 6us/sample - loss: 0.2281 - r2_2: 0.7718 - val_loss: 0.2415 - val_r2_2: 0.7637\n",
      "Epoch 6/500\n",
      "112640/119232 [===========================>..] - ETA: 0s - loss: 0.2317 - r2_2: 0.7663\n",
      "Epoch 00006: val_loss did not improve from 0.24145\n",
      "119232/119232 [==============================] - 1s 6us/sample - loss: 0.2305 - r2_2: 0.7687 - val_loss: 0.2469 - val_r2_2: 0.7550\n",
      "Epoch 7/500\n",
      "116736/119232 [============================>.] - ETA: 0s - loss: 0.2162 - r2_2: 0.7859\n",
      "Epoch 00007: val_loss did not improve from 0.24145\n",
      "119232/119232 [==============================] - 1s 7us/sample - loss: 0.2171 - r2_2: 0.7844 - val_loss: 0.2544 - val_r2_2: 0.7471\n",
      "Epoch 8/500\n",
      "116736/119232 [============================>.] - ETA: 0s - loss: 0.2076 - r2_2: 0.7917\n",
      "Epoch 00008: val_loss improved from 0.24145 to 0.22869, saving model to ./model.h5\n",
      "119232/119232 [==============================] - 1s 6us/sample - loss: 0.2083 - r2_2: 0.7922 - val_loss: 0.2287 - val_r2_2: 0.7789\n",
      "Epoch 9/500\n",
      "113664/119232 [===========================>..] - ETA: 0s - loss: 0.2066 - r2_2: 0.7935\n",
      "Epoch 00009: val_loss did not improve from 0.22869\n",
      "119232/119232 [==============================] - 1s 6us/sample - loss: 0.2074 - r2_2: 0.7908 - val_loss: 0.3237 - val_r2_2: 0.6809\n",
      "Epoch 10/500\n",
      "113664/119232 [===========================>..] - ETA: 0s - loss: 0.2094 - r2_2: 0.7909\n",
      "Epoch 00010: val_loss did not improve from 0.22869\n",
      "119232/119232 [==============================] - 1s 6us/sample - loss: 0.2073 - r2_2: 0.7931 - val_loss: 0.2348 - val_r2_2: 0.7672\n",
      "Epoch 11/500\n",
      "109568/119232 [==========================>...] - ETA: 0s - loss: 0.1919 - r2_2: 0.8061\n",
      "Epoch 00011: val_loss did not improve from 0.22869\n",
      "119232/119232 [==============================] - 1s 6us/sample - loss: 0.1947 - r2_2: 0.8043 - val_loss: 0.2508 - val_r2_2: 0.7574\n",
      "Epoch 12/500\n",
      "113664/119232 [===========================>..] - ETA: 0s - loss: 0.1951 - r2_2: 0.8038\n",
      "Epoch 00012: val_loss improved from 0.22869 to 0.21601, saving model to ./model.h5\n",
      "119232/119232 [==============================] - 1s 7us/sample - loss: 0.1954 - r2_2: 0.8047 - val_loss: 0.2160 - val_r2_2: 0.7883\n",
      "Epoch 13/500\n",
      "110592/119232 [==========================>...] - ETA: 0s - loss: 0.1899 - r2_2: 0.8102\n",
      "Epoch 00013: val_loss improved from 0.21601 to 0.21401, saving model to ./model.h5\n",
      "119232/119232 [==============================] - 1s 7us/sample - loss: 0.1903 - r2_2: 0.8096 - val_loss: 0.2140 - val_r2_2: 0.7866\n",
      "Epoch 14/500\n",
      "113664/119232 [===========================>..] - ETA: 0s - loss: 0.1915 - r2_2: 0.8086\n",
      "Epoch 00014: val_loss improved from 0.21401 to 0.21160, saving model to ./model.h5\n",
      "119232/119232 [==============================] - 1s 7us/sample - loss: 0.1907 - r2_2: 0.8097 - val_loss: 0.2116 - val_r2_2: 0.7920\n",
      "Epoch 15/500\n",
      "115712/119232 [============================>.] - ETA: 0s - loss: 0.1866 - r2_2: 0.8123\n",
      "Epoch 00015: val_loss did not improve from 0.21160\n",
      "119232/119232 [==============================] - 1s 6us/sample - loss: 0.1879 - r2_2: 0.8105 - val_loss: 0.2177 - val_r2_2: 0.7853\n",
      "Epoch 16/500\n",
      "112640/119232 [===========================>..] - ETA: 0s - loss: 0.1965 - r2_2: 0.8035\n",
      "Epoch 00016: val_loss improved from 0.21160 to 0.19878, saving model to ./model.h5\n",
      "119232/119232 [==============================] - 1s 6us/sample - loss: 0.1975 - r2_2: 0.8027 - val_loss: 0.1988 - val_r2_2: 0.8059\n",
      "Epoch 17/500\n",
      "117760/119232 [============================>.] - ETA: 0s - loss: 0.1904 - r2_2: 0.8091\n",
      "Epoch 00017: val_loss improved from 0.19878 to 0.18650, saving model to ./model.h5\n",
      "119232/119232 [==============================] - 1s 6us/sample - loss: 0.1897 - r2_2: 0.8095 - val_loss: 0.1865 - val_r2_2: 0.8169\n",
      "Epoch 18/500\n",
      "109568/119232 [==========================>...] - ETA: 0s - loss: 0.1660 - r2_2: 0.8327\n",
      "Epoch 00018: val_loss did not improve from 0.18650\n",
      "119232/119232 [==============================] - 1s 6us/sample - loss: 0.1685 - r2_2: 0.8304 - val_loss: 0.1880 - val_r2_2: 0.8119\n",
      "Epoch 19/500\n",
      "118784/119232 [============================>.] - ETA: 0s - loss: 0.1668 - r2_2: 0.8338\n",
      "Epoch 00019: val_loss improved from 0.18650 to 0.18259, saving model to ./model.h5\n",
      "119232/119232 [==============================] - 1s 6us/sample - loss: 0.1671 - r2_2: 0.8328 - val_loss: 0.1826 - val_r2_2: 0.8184\n",
      "Epoch 20/500\n",
      "113664/119232 [===========================>..] - ETA: 0s - loss: 0.1564 - r2_2: 0.8445\n",
      "Epoch 00020: val_loss did not improve from 0.18259\n",
      "119232/119232 [==============================] - 1s 6us/sample - loss: 0.1556 - r2_2: 0.8445 - val_loss: 0.2055 - val_r2_2: 0.7927\n",
      "Epoch 21/500\n",
      "112640/119232 [===========================>..] - ETA: 0s - loss: 0.1620 - r2_2: 0.8382\n",
      "Epoch 00021: val_loss improved from 0.18259 to 0.17187, saving model to ./model.h5\n",
      "119232/119232 [==============================] - 1s 6us/sample - loss: 0.1618 - r2_2: 0.8382 - val_loss: 0.1719 - val_r2_2: 0.8308\n",
      "Epoch 22/500\n",
      "117760/119232 [============================>.] - ETA: 0s - loss: 0.1465 - r2_2: 0.8546\n",
      "Epoch 00022: val_loss improved from 0.17187 to 0.17132, saving model to ./model.h5\n",
      "119232/119232 [==============================] - 1s 6us/sample - loss: 0.1464 - r2_2: 0.8550 - val_loss: 0.1713 - val_r2_2: 0.8300\n",
      "Epoch 23/500\n",
      "118784/119232 [============================>.] - ETA: 0s - loss: 0.1524 - r2_2: 0.8474\n",
      "Epoch 00023: val_loss did not improve from 0.17132\n",
      "119232/119232 [==============================] - 1s 5us/sample - loss: 0.1527 - r2_2: 0.8466 - val_loss: 0.1780 - val_r2_2: 0.8255\n",
      "Epoch 24/500\n",
      "116736/119232 [============================>.] - ETA: 0s - loss: 0.1592 - r2_2: 0.8403\n",
      "Epoch 00024: val_loss improved from 0.17132 to 0.14990, saving model to ./model.h5\n",
      "119232/119232 [==============================] - 1s 7us/sample - loss: 0.1590 - r2_2: 0.8406 - val_loss: 0.1499 - val_r2_2: 0.8553\n",
      "Epoch 25/500\n",
      "114688/119232 [===========================>..] - ETA: 0s - loss: 0.1341 - r2_2: 0.8657\n",
      "Epoch 00025: val_loss improved from 0.14990 to 0.13789, saving model to ./model.h5\n",
      "119232/119232 [==============================] - 1s 6us/sample - loss: 0.1343 - r2_2: 0.8658 - val_loss: 0.1379 - val_r2_2: 0.8647\n",
      "Epoch 26/500\n",
      "114688/119232 [===========================>..] - ETA: 0s - loss: 0.1309 - r2_2: 0.8683\n",
      "Epoch 00026: val_loss did not improve from 0.13789\n",
      "119232/119232 [==============================] - 1s 5us/sample - loss: 0.1307 - r2_2: 0.8685 - val_loss: 0.1411 - val_r2_2: 0.8605\n",
      "Epoch 27/500\n",
      "116736/119232 [============================>.] - ETA: 0s - loss: 0.1319 - r2_2: 0.8683\n",
      "Epoch 00027: val_loss did not improve from 0.13789\n",
      "119232/119232 [==============================] - 1s 5us/sample - loss: 0.1319 - r2_2: 0.8686 - val_loss: 0.1626 - val_r2_2: 0.8397\n",
      "Epoch 28/500\n"
     ]
    },
    {
     "name": "stdout",
     "output_type": "stream",
     "text": [
      "113664/119232 [===========================>..] - ETA: 0s - loss: 0.1165 - r2_2: 0.8844\n",
      "Epoch 00028: val_loss did not improve from 0.13789\n",
      "119232/119232 [==============================] - 1s 5us/sample - loss: 0.1160 - r2_2: 0.8846 - val_loss: 0.1394 - val_r2_2: 0.8630\n",
      "Epoch 29/500\n",
      "117760/119232 [============================>.] - ETA: 0s - loss: 0.1283 - r2_2: 0.8715\n",
      "Epoch 00029: val_loss improved from 0.13789 to 0.11079, saving model to ./model.h5\n",
      "119232/119232 [==============================] - 1s 5us/sample - loss: 0.1281 - r2_2: 0.8721 - val_loss: 0.1108 - val_r2_2: 0.8937\n",
      "Epoch 30/500\n",
      "116736/119232 [============================>.] - ETA: 0s - loss: 0.1150 - r2_2: 0.8844\n",
      "Epoch 00030: val_loss did not improve from 0.11079\n",
      "119232/119232 [==============================] - 1s 5us/sample - loss: 0.1146 - r2_2: 0.8848 - val_loss: 0.1524 - val_r2_2: 0.8515\n",
      "Epoch 31/500\n",
      "113664/119232 [===========================>..] - ETA: 0s - loss: 0.1168 - r2_2: 0.8830\n",
      "Epoch 00031: val_loss improved from 0.11079 to 0.08075, saving model to ./model.h5\n",
      "119232/119232 [==============================] - 1s 6us/sample - loss: 0.1158 - r2_2: 0.8844 - val_loss: 0.0807 - val_r2_2: 0.9225\n",
      "Epoch 32/500\n",
      "118784/119232 [============================>.] - ETA: 0s - loss: 0.0948 - r2_2: 0.9052\n",
      "Epoch 00032: val_loss did not improve from 0.08075\n",
      "119232/119232 [==============================] - 1s 6us/sample - loss: 0.0946 - r2_2: 0.9056 - val_loss: 0.1216 - val_r2_2: 0.8821\n",
      "Epoch 33/500\n",
      "115712/119232 [============================>.] - ETA: 0s - loss: 0.0932 - r2_2: 0.9063\n",
      "Epoch 00033: val_loss did not improve from 0.08075\n",
      "119232/119232 [==============================] - 1s 6us/sample - loss: 0.0944 - r2_2: 0.9054 - val_loss: 0.1452 - val_r2_2: 0.8582\n",
      "Epoch 34/500\n",
      "116736/119232 [============================>.] - ETA: 0s - loss: 0.0990 - r2_2: 0.9008\n",
      "Epoch 00034: val_loss improved from 0.08075 to 0.07561, saving model to ./model.h5\n",
      "119232/119232 [==============================] - 1s 6us/sample - loss: 0.0979 - r2_2: 0.9017 - val_loss: 0.0756 - val_r2_2: 0.9262\n",
      "Epoch 35/500\n",
      "114688/119232 [===========================>..] - ETA: 0s - loss: 0.0919 - r2_2: 0.9073\n",
      "Epoch 00035: val_loss did not improve from 0.07561\n",
      "119232/119232 [==============================] - 1s 6us/sample - loss: 0.0923 - r2_2: 0.9071 - val_loss: 0.0927 - val_r2_2: 0.9102\n",
      "Epoch 36/500\n",
      "112640/119232 [===========================>..] - ETA: 0s - loss: 0.1037 - r2_2: 0.8954\n",
      "Epoch 00036: val_loss improved from 0.07561 to 0.06793, saving model to ./model.h5\n",
      "119232/119232 [==============================] - 1s 6us/sample - loss: 0.1027 - r2_2: 0.8966 - val_loss: 0.0679 - val_r2_2: 0.9321\n",
      "Epoch 37/500\n",
      "118784/119232 [============================>.] - ETA: 0s - loss: 0.0856 - r2_2: 0.9136\n",
      "Epoch 00037: val_loss did not improve from 0.06793\n",
      "119232/119232 [==============================] - 1s 6us/sample - loss: 0.0858 - r2_2: 0.9133 - val_loss: 0.1582 - val_r2_2: 0.8443\n",
      "Epoch 38/500\n",
      "110592/119232 [==========================>...] - ETA: 0s - loss: 0.0952 - r2_2: 0.9038\n",
      "Epoch 00038: val_loss did not improve from 0.06793\n",
      "119232/119232 [==============================] - 1s 6us/sample - loss: 0.0944 - r2_2: 0.9050 - val_loss: 0.1112 - val_r2_2: 0.8891\n",
      "Epoch 39/500\n",
      "110592/119232 [==========================>...] - ETA: 0s - loss: 0.0749 - r2_2: 0.9252\n",
      "Epoch 00039: val_loss improved from 0.06793 to 0.06587, saving model to ./model.h5\n",
      "119232/119232 [==============================] - 1s 5us/sample - loss: 0.0759 - r2_2: 0.9246 - val_loss: 0.0659 - val_r2_2: 0.9352\n",
      "Epoch 40/500\n",
      "114688/119232 [===========================>..] - ETA: 0s - loss: 0.0822 - r2_2: 0.9184\n",
      "Epoch 00040: val_loss did not improve from 0.06587\n",
      "119232/119232 [==============================] - 1s 5us/sample - loss: 0.0817 - r2_2: 0.9180 - val_loss: 0.0896 - val_r2_2: 0.9124\n",
      "Epoch 41/500\n",
      "110592/119232 [==========================>...] - ETA: 0s - loss: 0.0798 - r2_2: 0.9192\n",
      "Epoch 00041: val_loss did not improve from 0.06587\n",
      "119232/119232 [==============================] - 1s 5us/sample - loss: 0.0822 - r2_2: 0.9175 - val_loss: 0.1448 - val_r2_2: 0.8591\n",
      "Epoch 42/500\n",
      "110592/119232 [==========================>...] - ETA: 0s - loss: 0.0970 - r2_2: 0.9022\n",
      "Epoch 00042: val_loss did not improve from 0.06587\n",
      "119232/119232 [==============================] - 1s 5us/sample - loss: 0.0953 - r2_2: 0.9043 - val_loss: 0.1380 - val_r2_2: 0.8621\n",
      "Epoch 43/500\n",
      "113664/119232 [===========================>..] - ETA: 0s - loss: 0.0845 - r2_2: 0.9157\n",
      "Epoch 00043: val_loss did not improve from 0.06587\n",
      "119232/119232 [==============================] - 1s 5us/sample - loss: 0.0836 - r2_2: 0.9165 - val_loss: 0.1218 - val_r2_2: 0.8803\n",
      "Epoch 44/500\n",
      "113664/119232 [===========================>..] - ETA: 0s - loss: 0.0821 - r2_2: 0.9183\n",
      "Epoch 00044: val_loss did not improve from 0.06587\n",
      "119232/119232 [==============================] - 1s 5us/sample - loss: 0.0821 - r2_2: 0.9184 - val_loss: 0.1094 - val_r2_2: 0.8874\n",
      "Epoch 45/500\n",
      "115712/119232 [============================>.] - ETA: 0s - loss: 0.0861 - r2_2: 0.9135\n",
      "Epoch 00045: val_loss did not improve from 0.06587\n",
      "119232/119232 [==============================] - 1s 5us/sample - loss: 0.0864 - r2_2: 0.9134 - val_loss: 0.0939 - val_r2_2: 0.9071\n",
      "Epoch 46/500\n",
      "117760/119232 [============================>.] - ETA: 0s - loss: 0.0839 - r2_2: 0.9145\n",
      "Epoch 00046: val_loss did not improve from 0.06587\n",
      "119232/119232 [==============================] - 1s 5us/sample - loss: 0.0838 - r2_2: 0.9148 - val_loss: 0.1131 - val_r2_2: 0.8889\n",
      "Epoch 47/500\n",
      "111616/119232 [===========================>..] - ETA: 0s - loss: 0.0803 - r2_2: 0.9189\n",
      "Epoch 00047: val_loss did not improve from 0.06587\n",
      "119232/119232 [==============================] - 1s 6us/sample - loss: 0.0791 - r2_2: 0.9208 - val_loss: 0.0934 - val_r2_2: 0.9068\n",
      "Epoch 48/500\n",
      "114688/119232 [===========================>..] - ETA: 0s - loss: 0.0905 - r2_2: 0.9088\n",
      "Epoch 00048: val_loss improved from 0.06587 to 0.05817, saving model to ./model.h5\n",
      "119232/119232 [==============================] - 1s 7us/sample - loss: 0.0903 - r2_2: 0.9091 - val_loss: 0.0582 - val_r2_2: 0.9438\n",
      "Epoch 49/500\n",
      "118784/119232 [============================>.] - ETA: 0s - loss: 0.0765 - r2_2: 0.9232\n",
      "Epoch 00049: val_loss did not improve from 0.05817\n",
      "119232/119232 [==============================] - 1s 6us/sample - loss: 0.0767 - r2_2: 0.9230 - val_loss: 0.1541 - val_r2_2: 0.8485\n",
      "Epoch 50/500\n",
      "112640/119232 [===========================>..] - ETA: 0s - loss: 0.0705 - r2_2: 0.9297\n",
      "Epoch 00050: val_loss did not improve from 0.05817\n",
      "119232/119232 [==============================] - 1s 6us/sample - loss: 0.0709 - r2_2: 0.9291 - val_loss: 0.0665 - val_r2_2: 0.9335\n",
      "Epoch 51/500\n",
      "113664/119232 [===========================>..] - ETA: 0s - loss: 0.0670 - r2_2: 0.9326\n",
      "Epoch 00051: val_loss did not improve from 0.05817\n",
      "119232/119232 [==============================] - 1s 5us/sample - loss: 0.0660 - r2_2: 0.9335 - val_loss: 0.0746 - val_r2_2: 0.9257\n",
      "Epoch 52/500\n",
      "116736/119232 [============================>.] - ETA: 0s - loss: 0.0884 - r2_2: 0.9110\n",
      "Epoch 00052: val_loss did not improve from 0.05817\n",
      "119232/119232 [==============================] - 1s 5us/sample - loss: 0.0886 - r2_2: 0.9109 - val_loss: 0.0967 - val_r2_2: 0.9055\n",
      "Epoch 53/500\n",
      "114688/119232 [===========================>..] - ETA: 0s - loss: 0.0677 - r2_2: 0.9322\n",
      "Epoch 00053: val_loss did not improve from 0.05817\n",
      "119232/119232 [==============================] - 1s 5us/sample - loss: 0.0690 - r2_2: 0.9309 - val_loss: 0.0779 - val_r2_2: 0.9231\n",
      "Epoch 54/500\n",
      "110592/119232 [==========================>...] - ETA: 0s - loss: 0.0672 - r2_2: 0.9318\n",
      "Epoch 00054: val_loss did not improve from 0.05817\n",
      "119232/119232 [==============================] - 1s 5us/sample - loss: 0.0692 - r2_2: 0.9302 - val_loss: 0.1021 - val_r2_2: 0.9007\n",
      "Epoch 55/500\n",
      "116736/119232 [============================>.] - ETA: 0s - loss: 0.0736 - r2_2: 0.9259\n",
      "Epoch 00055: val_loss improved from 0.05817 to 0.04598, saving model to ./model.h5\n",
      "119232/119232 [==============================] - 1s 6us/sample - loss: 0.0730 - r2_2: 0.9267 - val_loss: 0.0460 - val_r2_2: 0.9551\n",
      "Epoch 56/500\n"
     ]
    },
    {
     "name": "stdout",
     "output_type": "stream",
     "text": [
      "117760/119232 [============================>.] - ETA: 0s - loss: 0.0579 - r2_2: 0.9418\n",
      "Epoch 00056: val_loss improved from 0.04598 to 0.04347, saving model to ./model.h5\n",
      "119232/119232 [==============================] - 1s 7us/sample - loss: 0.0579 - r2_2: 0.9420 - val_loss: 0.0435 - val_r2_2: 0.9570\n",
      "Epoch 57/500\n",
      "116736/119232 [============================>.] - ETA: 0s - loss: 0.0725 - r2_2: 0.9278\n",
      "Epoch 00057: val_loss did not improve from 0.04347\n",
      "119232/119232 [==============================] - 1s 5us/sample - loss: 0.0717 - r2_2: 0.9288 - val_loss: 0.0844 - val_r2_2: 0.9175\n",
      "Epoch 58/500\n",
      "113664/119232 [===========================>..] - ETA: 0s - loss: 0.0734 - r2_2: 0.9259\n",
      "Epoch 00058: val_loss did not improve from 0.04347\n",
      "119232/119232 [==============================] - 1s 5us/sample - loss: 0.0729 - r2_2: 0.9264 - val_loss: 0.0735 - val_r2_2: 0.9287\n",
      "Epoch 59/500\n",
      "111616/119232 [===========================>..] - ETA: 0s - loss: 0.0650 - r2_2: 0.9353\n",
      "Epoch 00059: val_loss did not improve from 0.04347\n",
      "119232/119232 [==============================] - 1s 5us/sample - loss: 0.0658 - r2_2: 0.9341 - val_loss: 0.1555 - val_r2_2: 0.8448\n",
      "Epoch 60/500\n",
      "113664/119232 [===========================>..] - ETA: 0s - loss: 0.0898 - r2_2: 0.9100\n",
      "Epoch 00060: val_loss did not improve from 0.04347\n",
      "119232/119232 [==============================] - 1s 5us/sample - loss: 0.0905 - r2_2: 0.9093 - val_loss: 0.1292 - val_r2_2: 0.8728\n",
      "Epoch 61/500\n",
      "115712/119232 [============================>.] - ETA: 0s - loss: 0.0680 - r2_2: 0.9315\n",
      "Epoch 00061: val_loss did not improve from 0.04347\n",
      "119232/119232 [==============================] - 1s 5us/sample - loss: 0.0688 - r2_2: 0.9310 - val_loss: 0.0976 - val_r2_2: 0.9036\n",
      "Epoch 62/500\n",
      "110592/119232 [==========================>...] - ETA: 0s - loss: 0.0712 - r2_2: 0.9298\n",
      "Epoch 00062: val_loss improved from 0.04347 to 0.03491, saving model to ./model.h5\n",
      "119232/119232 [==============================] - 1s 6us/sample - loss: 0.0680 - r2_2: 0.9332 - val_loss: 0.0349 - val_r2_2: 0.9655\n",
      "Epoch 63/500\n",
      "111616/119232 [===========================>..] - ETA: 0s - loss: 0.0565 - r2_2: 0.9431\n",
      "Epoch 00063: val_loss improved from 0.03491 to 0.03417, saving model to ./model.h5\n",
      "119232/119232 [==============================] - 1s 6us/sample - loss: 0.0554 - r2_2: 0.9444 - val_loss: 0.0342 - val_r2_2: 0.9663\n",
      "Epoch 64/500\n",
      "112640/119232 [===========================>..] - ETA: 0s - loss: 0.0744 - r2_2: 0.9260\n",
      "Epoch 00064: val_loss did not improve from 0.03417\n",
      "119232/119232 [==============================] - 1s 6us/sample - loss: 0.0734 - r2_2: 0.9272 - val_loss: 0.0545 - val_r2_2: 0.9464\n",
      "Epoch 65/500\n",
      "113664/119232 [===========================>..] - ETA: 0s - loss: 0.0499 - r2_2: 0.9499\n",
      "Epoch 00065: val_loss did not improve from 0.03417\n",
      "119232/119232 [==============================] - 1s 6us/sample - loss: 0.0516 - r2_2: 0.9473 - val_loss: 0.1224 - val_r2_2: 0.8781\n",
      "Epoch 66/500\n",
      "115712/119232 [============================>.] - ETA: 0s - loss: 0.0713 - r2_2: 0.9287\n",
      "Epoch 00066: val_loss did not improve from 0.03417\n",
      "119232/119232 [==============================] - 1s 6us/sample - loss: 0.0719 - r2_2: 0.9284 - val_loss: 0.1024 - val_r2_2: 0.8998\n",
      "Epoch 67/500\n",
      "114688/119232 [===========================>..] - ETA: 0s - loss: 0.0579 - r2_2: 0.9421\n",
      "Epoch 00067: val_loss improved from 0.03417 to 0.02525, saving model to ./model.h5\n",
      "119232/119232 [==============================] - 1s 6us/sample - loss: 0.0580 - r2_2: 0.9424 - val_loss: 0.0253 - val_r2_2: 0.9752\n",
      "Epoch 68/500\n",
      "117760/119232 [============================>.] - ETA: 0s - loss: 0.0435 - r2_2: 0.9564\n",
      "Epoch 00068: val_loss did not improve from 0.02525\n",
      "119232/119232 [==============================] - 1s 5us/sample - loss: 0.0442 - r2_2: 0.9556 - val_loss: 0.0414 - val_r2_2: 0.9586\n",
      "Epoch 69/500\n",
      "109568/119232 [==========================>...] - ETA: 0s - loss: 0.0529 - r2_2: 0.9478\n",
      "Epoch 00069: val_loss did not improve from 0.02525\n",
      "119232/119232 [==============================] - 1s 5us/sample - loss: 0.0538 - r2_2: 0.9467 - val_loss: 0.1421 - val_r2_2: 0.8617\n",
      "Epoch 70/500\n",
      "110592/119232 [==========================>...] - ETA: 0s - loss: 0.0667 - r2_2: 0.9323\n",
      "Epoch 00070: val_loss did not improve from 0.02525\n",
      "119232/119232 [==============================] - 1s 5us/sample - loss: 0.0652 - r2_2: 0.9341 - val_loss: 0.0516 - val_r2_2: 0.9500\n",
      "Epoch 71/500\n",
      "111616/119232 [===========================>..] - ETA: 0s - loss: 0.0433 - r2_2: 0.9559\n",
      "Epoch 00071: val_loss did not improve from 0.02525\n",
      "119232/119232 [==============================] - 1s 5us/sample - loss: 0.0429 - r2_2: 0.9567 - val_loss: 0.0253 - val_r2_2: 0.9750\n",
      "Epoch 72/500\n",
      "109568/119232 [==========================>...] - ETA: 0s - loss: 0.0718 - r2_2: 0.9280\n",
      "Epoch 00072: val_loss did not improve from 0.02525\n",
      "119232/119232 [==============================] - 1s 6us/sample - loss: 0.0689 - r2_2: 0.9305 - val_loss: 0.0604 - val_r2_2: 0.9412\n",
      "Epoch 73/500\n",
      "116736/119232 [============================>.] - ETA: 0s - loss: 0.0781 - r2_2: 0.9217\n",
      "Epoch 00073: val_loss did not improve from 0.02525\n",
      "119232/119232 [==============================] - 1s 6us/sample - loss: 0.0775 - r2_2: 0.9221 - val_loss: 0.0656 - val_r2_2: 0.9344\n",
      "Epoch 74/500\n",
      "112640/119232 [===========================>..] - ETA: 0s - loss: 0.0512 - r2_2: 0.9490\n",
      "Epoch 00074: val_loss did not improve from 0.02525\n",
      "119232/119232 [==============================] - 1s 7us/sample - loss: 0.0529 - r2_2: 0.9470 - val_loss: 0.1134 - val_r2_2: 0.8882\n",
      "Epoch 75/500\n",
      "117760/119232 [============================>.] - ETA: 0s - loss: 0.0473 - r2_2: 0.9530\n",
      "Epoch 00075: val_loss did not improve from 0.02525\n",
      "119232/119232 [==============================] - 1s 6us/sample - loss: 0.0472 - r2_2: 0.9532 - val_loss: 0.0572 - val_r2_2: 0.9413\n",
      "Epoch 76/500\n",
      "114688/119232 [===========================>..] - ETA: 0s - loss: 0.0392 - r2_2: 0.9604\n",
      "Epoch 00076: val_loss did not improve from 0.02525\n",
      "119232/119232 [==============================] - 1s 6us/sample - loss: 0.0389 - r2_2: 0.9608 - val_loss: 0.0372 - val_r2_2: 0.9633\n",
      "Epoch 77/500\n",
      "108544/119232 [==========================>...] - ETA: 0s - loss: 0.0637 - r2_2: 0.9362\n",
      "Epoch 00077: val_loss did not improve from 0.02525\n",
      "119232/119232 [==============================] - 1s 6us/sample - loss: 0.0604 - r2_2: 0.9398 - val_loss: 0.0254 - val_r2_2: 0.9754\n"
     ]
    }
   ],
   "source": [
    "history = model.fit({'input_placeholder': training_inputs},\n",
    "                        {'output_value': training_outputs},\n",
    "                        epochs=num_epochs, \n",
    "                        batch_size=1024,callbacks=[tbCallBack,checkpoint,csv_logger,earlystopping],\n",
    "                        validation_split=0.1,verbose=1)"
   ]
  },
  {
   "cell_type": "code",
   "execution_count": 44,
   "metadata": {},
   "outputs": [
    {
     "name": "stderr",
     "output_type": "stream",
     "text": [
      "W1029 15:03:44.793496 140083208984384 deprecation.py:506] From /home/jeba/tensorflow-venv/lib/python3.6/site-packages/tensorflow_core/python/ops/init_ops.py:97: calling GlorotUniform.__init__ (from tensorflow.python.ops.init_ops) with dtype is deprecated and will be removed in a future version.\n",
      "Instructions for updating:\n",
      "Call initializer instance with the dtype argument instead of passing it to the constructor\n",
      "W1029 15:03:44.794800 140083208984384 deprecation.py:506] From /home/jeba/tensorflow-venv/lib/python3.6/site-packages/tensorflow_core/python/ops/init_ops.py:97: calling Zeros.__init__ (from tensorflow.python.ops.init_ops) with dtype is deprecated and will be removed in a future version.\n",
      "Instructions for updating:\n",
      "Call initializer instance with the dtype argument instead of passing it to the constructor\n"
     ]
    },
    {
     "data": {
      "text/plain": [
       "<tensorflow.python.keras.engine.training.Model at 0x7f671464b240>"
      ]
     },
     "execution_count": 44,
     "metadata": {},
     "output_type": "execute_result"
    }
   ],
   "source": [
    "keras.models.load_model(model_path,custom_objects={'r2_2': r2_2})"
   ]
  },
  {
   "cell_type": "code",
   "execution_count": 45,
   "metadata": {},
   "outputs": [
    {
     "name": "stderr",
     "output_type": "stream",
     "text": [
      "W1029 15:03:45.842236 140083208984384 deprecation.py:323] From <ipython-input-6-0d92ab84a915>:26: convert_variables_to_constants (from tensorflow.python.framework.graph_util_impl) is deprecated and will be removed in a future version.\n",
      "Instructions for updating:\n",
      "Use `tf.compat.v1.graph_util.convert_variables_to_constants`\n",
      "W1029 15:03:45.843529 140083208984384 deprecation.py:323] From /home/jeba/tensorflow-venv/lib/python3.6/site-packages/tensorflow_core/python/framework/graph_util_impl.py:277: extract_sub_graph (from tensorflow.python.framework.graph_util_impl) is deprecated and will be removed in a future version.\n",
      "Instructions for updating:\n",
      "Use `tf.compat.v1.graph_util.extract_sub_graph`\n"
     ]
    }
   ],
   "source": [
    "frozen_graph = freeze_session(keras.backend.get_session(), output_names=[out.op.name for out in model.outputs])"
   ]
  },
  {
   "cell_type": "code",
   "execution_count": 46,
   "metadata": {},
   "outputs": [
    {
     "data": {
      "text/plain": [
       "'./ML_SA_CG.pb'"
      ]
     },
     "execution_count": 46,
     "metadata": {},
     "output_type": "execute_result"
    }
   ],
   "source": [
    "tf.train.write_graph(frozen_graph, './', 'ML_SA_CG.pb', as_text=False)"
   ]
  },
  {
   "cell_type": "code",
   "execution_count": null,
   "metadata": {},
   "outputs": [],
   "source": []
  },
  {
   "cell_type": "code",
   "execution_count": 47,
   "metadata": {},
   "outputs": [],
   "source": [
    "def load_graph(frozen_graph_filename):\n",
    "    # We load the protobuf file from the disk and parse it to retrieve the \n",
    "    # unserialized graph_def\n",
    "    with tf.gfile.GFile(frozen_graph_filename, \"rb\") as f:\n",
    "        graph_def = tf.GraphDef()\n",
    "        graph_def.ParseFromString(f.read())\n",
    "\n",
    "    # Then, we import the graph_def into a new Graph and returns it \n",
    "    with tf.Graph().as_default() as graph:\n",
    "        # The name var will prefix every op/nodes in your graph\n",
    "        # Since we load everything in a new graph, this is not needed\n",
    "        tf.import_graph_def(graph_def, name=\"prefix\")\n",
    "    return graph\n"
   ]
  },
  {
   "cell_type": "code",
   "execution_count": null,
   "metadata": {},
   "outputs": [],
   "source": []
  },
  {
   "cell_type": "code",
   "execution_count": 48,
   "metadata": {},
   "outputs": [],
   "source": [
    "graph = load_graph('ML_SA_CG.pb')"
   ]
  },
  {
   "cell_type": "code",
   "execution_count": 49,
   "metadata": {},
   "outputs": [
    {
     "name": "stdout",
     "output_type": "stream",
     "text": [
      "prefix/input_placeholder\n",
      "prefix/dense/kernel\n",
      "prefix/dense/bias\n",
      "prefix/dense/MatMul/ReadVariableOp\n",
      "prefix/dense/MatMul\n",
      "prefix/dense/BiasAdd/ReadVariableOp\n",
      "prefix/dense/BiasAdd\n",
      "prefix/dense/Tanh\n",
      "prefix/dense_1/kernel\n",
      "prefix/dense_1/bias\n",
      "prefix/dense_1/MatMul/ReadVariableOp\n",
      "prefix/dense_1/MatMul\n",
      "prefix/dense_1/BiasAdd/ReadVariableOp\n",
      "prefix/dense_1/BiasAdd\n",
      "prefix/dense_1/Tanh\n",
      "prefix/dense_2/kernel\n",
      "prefix/dense_2/bias\n",
      "prefix/dense_2/MatMul/ReadVariableOp\n",
      "prefix/dense_2/MatMul\n",
      "prefix/dense_2/BiasAdd/ReadVariableOp\n",
      "prefix/dense_2/BiasAdd\n",
      "prefix/dense_2/Tanh\n",
      "prefix/dense_3/kernel\n",
      "prefix/dense_3/bias\n",
      "prefix/dense_3/MatMul/ReadVariableOp\n",
      "prefix/dense_3/MatMul\n",
      "prefix/dense_3/BiasAdd/ReadVariableOp\n",
      "prefix/dense_3/BiasAdd\n",
      "prefix/dense_3/Tanh\n",
      "prefix/dense_4/kernel\n",
      "prefix/dense_4/bias\n",
      "prefix/dense_4/MatMul/ReadVariableOp\n",
      "prefix/dense_4/MatMul\n",
      "prefix/dense_4/BiasAdd/ReadVariableOp\n",
      "prefix/dense_4/BiasAdd\n",
      "prefix/dense_4/Tanh\n",
      "prefix/dense_5/kernel\n",
      "prefix/dense_5/bias\n",
      "prefix/dense_5/MatMul/ReadVariableOp\n",
      "prefix/dense_5/MatMul\n",
      "prefix/dense_5/BiasAdd/ReadVariableOp\n",
      "prefix/dense_5/BiasAdd\n",
      "prefix/dense_5/Tanh\n",
      "prefix/dense_6/kernel\n",
      "prefix/dense_6/bias\n",
      "prefix/dense_6/MatMul/ReadVariableOp\n",
      "prefix/dense_6/MatMul\n",
      "prefix/dense_6/BiasAdd/ReadVariableOp\n",
      "prefix/dense_6/BiasAdd\n",
      "prefix/dense_6/Tanh\n",
      "prefix/output_value/kernel\n",
      "prefix/output_value/bias\n",
      "prefix/output_value/MatMul/ReadVariableOp\n",
      "prefix/output_value/MatMul\n",
      "prefix/output_value/BiasAdd/ReadVariableOp\n",
      "prefix/output_value/BiasAdd\n",
      "prefix/training/Adam/iter\n",
      "prefix/training/Adam/beta_1\n",
      "prefix/training/Adam/beta_2\n",
      "prefix/training/Adam/decay\n",
      "prefix/training/Adam/learning_rate\n",
      "prefix/training/Adam/dense/kernel/m\n",
      "prefix/training/Adam/dense/bias/m\n",
      "prefix/training/Adam/dense_1/kernel/m\n",
      "prefix/training/Adam/dense_1/bias/m\n",
      "prefix/training/Adam/dense_2/kernel/m\n",
      "prefix/training/Adam/dense_2/bias/m\n",
      "prefix/training/Adam/dense_3/kernel/m\n",
      "prefix/training/Adam/dense_3/bias/m\n",
      "prefix/training/Adam/dense_4/kernel/m\n",
      "prefix/training/Adam/dense_4/bias/m\n",
      "prefix/training/Adam/dense_5/kernel/m\n",
      "prefix/training/Adam/dense_5/bias/m\n",
      "prefix/training/Adam/dense_6/kernel/m\n",
      "prefix/training/Adam/dense_6/bias/m\n",
      "prefix/training/Adam/output_value/kernel/m\n",
      "prefix/training/Adam/output_value/bias/m\n",
      "prefix/training/Adam/dense/kernel/v\n",
      "prefix/training/Adam/dense/bias/v\n",
      "prefix/training/Adam/dense_1/kernel/v\n",
      "prefix/training/Adam/dense_1/bias/v\n",
      "prefix/training/Adam/dense_2/kernel/v\n",
      "prefix/training/Adam/dense_2/bias/v\n",
      "prefix/training/Adam/dense_3/kernel/v\n",
      "prefix/training/Adam/dense_3/bias/v\n",
      "prefix/training/Adam/dense_4/kernel/v\n",
      "prefix/training/Adam/dense_4/bias/v\n",
      "prefix/training/Adam/dense_5/kernel/v\n",
      "prefix/training/Adam/dense_5/bias/v\n",
      "prefix/training/Adam/dense_6/kernel/v\n",
      "prefix/training/Adam/dense_6/bias/v\n",
      "prefix/training/Adam/output_value/kernel/v\n",
      "prefix/training/Adam/output_value/bias/v\n",
      "prefix/dense_7/kernel\n",
      "prefix/dense_7/bias\n",
      "prefix/dense_1_1/kernel\n",
      "prefix/dense_1_1/bias\n",
      "prefix/dense_2_1/kernel\n",
      "prefix/dense_2_1/bias\n",
      "prefix/dense_3_1/kernel\n",
      "prefix/dense_3_1/bias\n",
      "prefix/dense_4_1/kernel\n",
      "prefix/dense_4_1/bias\n",
      "prefix/dense_5_1/kernel\n",
      "prefix/dense_5_1/bias\n",
      "prefix/dense_6_1/kernel\n",
      "prefix/dense_6_1/bias\n",
      "prefix/output_value_1/kernel\n",
      "prefix/output_value_1/bias\n",
      "prefix/training_2/Adam/iter\n",
      "prefix/training_2/Adam/beta_1\n",
      "prefix/training_2/Adam/beta_2\n",
      "prefix/training_2/Adam/decay\n",
      "prefix/training_2/Adam/learning_rate\n",
      "prefix/training_2/Adam/dense_7/kernel/m\n",
      "prefix/training_2/Adam/dense_7/bias/m\n",
      "prefix/training_2/Adam/dense_1_1/kernel/m\n",
      "prefix/training_2/Adam/dense_1_1/bias/m\n",
      "prefix/training_2/Adam/dense_2_1/kernel/m\n",
      "prefix/training_2/Adam/dense_2_1/bias/m\n",
      "prefix/training_2/Adam/dense_3_1/kernel/m\n",
      "prefix/training_2/Adam/dense_3_1/bias/m\n",
      "prefix/training_2/Adam/dense_4_1/kernel/m\n",
      "prefix/training_2/Adam/dense_4_1/bias/m\n",
      "prefix/training_2/Adam/dense_5_1/kernel/m\n",
      "prefix/training_2/Adam/dense_5_1/bias/m\n",
      "prefix/training_2/Adam/dense_6_1/kernel/m\n",
      "prefix/training_2/Adam/dense_6_1/bias/m\n",
      "prefix/training_2/Adam/output_value_1/kernel/m\n",
      "prefix/training_2/Adam/output_value_1/bias/m\n",
      "prefix/training_2/Adam/dense_7/kernel/v\n",
      "prefix/training_2/Adam/dense_7/bias/v\n",
      "prefix/training_2/Adam/dense_1_1/kernel/v\n",
      "prefix/training_2/Adam/dense_1_1/bias/v\n",
      "prefix/training_2/Adam/dense_2_1/kernel/v\n",
      "prefix/training_2/Adam/dense_2_1/bias/v\n",
      "prefix/training_2/Adam/dense_3_1/kernel/v\n",
      "prefix/training_2/Adam/dense_3_1/bias/v\n",
      "prefix/training_2/Adam/dense_4_1/kernel/v\n",
      "prefix/training_2/Adam/dense_4_1/bias/v\n",
      "prefix/training_2/Adam/dense_5_1/kernel/v\n",
      "prefix/training_2/Adam/dense_5_1/bias/v\n",
      "prefix/training_2/Adam/dense_6_1/kernel/v\n",
      "prefix/training_2/Adam/dense_6_1/bias/v\n",
      "prefix/training_2/Adam/output_value_1/kernel/v\n",
      "prefix/training_2/Adam/output_value_1/bias/v\n"
     ]
    }
   ],
   "source": [
    " for op in graph.get_operations():\n",
    "        print(op.name)"
   ]
  },
  {
   "cell_type": "code",
   "execution_count": 50,
   "metadata": {},
   "outputs": [
    {
     "name": "stdout",
     "output_type": "stream",
     "text": [
      "Inputs: Tensor(\"input_placeholder:0\", shape=(?, 6), dtype=float32)\n",
      "Outputs: Tensor(\"output_value/BiasAdd:0\", shape=(?, 1), dtype=float32)\n"
     ]
    }
   ],
   "source": [
    "input_tensor = model.inputs[0]\n",
    "output_tensor = model.outputs[0]\n",
    "print(\"Inputs: \"+str(input_tensor))\n",
    "print(\"Outputs: \"+str(output_tensor))"
   ]
  },
  {
   "cell_type": "code",
   "execution_count": 56,
   "metadata": {},
   "outputs": [],
   "source": [
    "import matplotlib as plt\n",
    "from matplotlib import pyplot as plt \n",
    "from matplotlib.ticker import FormatStrFormatter"
   ]
  },
  {
   "cell_type": "code",
   "execution_count": 52,
   "metadata": {},
   "outputs": [
    {
     "data": {
      "image/png": "[encoded data removed]",
      "text/plain": [
       "<Figure size 720x432 with 1 Axes>"
      ]
     },
     "metadata": {
      "needs_background": "light"
     },
     "output_type": "display_data"
    },
    {
     "data": {
      "image/png": "[encoded data removed]",
      "text/plain": [
       "<Figure size 720x432 with 1 Axes>"
      ]
     },
     "metadata": {
      "needs_background": "light"
     },
     "output_type": "display_data"
    }
   ],
   "source": [
    "# Plot the loss function\n",
    "fig, ax = plt.subplots(1, 1, figsize=(10,6))\n",
    "ax.plot(np.sqrt(history.history['loss']), 'r', label='Training')\n",
    "ax.plot(np.sqrt(history.history['val_loss']), 'b' ,label='Validation')\n",
    "ax.set_xlabel(r'Epoch', fontsize=20)\n",
    "ax.set_ylabel(r'Mean-squared error', fontsize=20)\n",
    "ax.legend()\n",
    "ax.tick_params(labelsize=20)\n",
    "\n",
    "# Plot the accuracy\n",
    "fig, ax = plt.subplots(1, 1, figsize=(10,6))\n",
    "ax.plot(np.sqrt(history.history['r2_2']), 'r', label='Training')\n",
    "ax.plot(np.sqrt(history.history['val_r2_2']), 'b' ,label='Validation')\n",
    "ax.set_xlabel(r'Epoch', fontsize=20)\n",
    "ax.set_ylabel(r'R^2', fontsize=20)\n",
    "ax.legend()\n",
    "ax.tick_params(labelsize=20)"
   ]
  },
  {
   "cell_type": "code",
   "execution_count": 57,
   "metadata": {},
   "outputs": [
    {
     "data": {
      "image/png": "[encoded data removed]",
      "text/plain": [
       "<Figure size 1728x720 with 2 Axes>"
      ]
     },
     "metadata": {
      "needs_background": "light"
     },
     "output_type": "display_data"
    }
   ],
   "source": [
    "# Plot the loss function\n",
    "# (ax1, ax2) = plt.subplots(1, 2)\n",
    "fig,(ax1,ax2) = plt.subplots(1, 2,figsize=(24,10))\n",
    "ax1.yaxis.set_major_formatter(FormatStrFormatter('%.2f'))\n",
    "ax1.plot(np.sqrt(history.history['loss']), 'r', label='Training',linewidth=3.0)\n",
    "ax1.plot(np.sqrt(history.history['val_loss']), 'b' ,label='Validation',linewidth=3.0)\n",
    "ax1.set_xlabel(r'Epoch', fontsize=36)\n",
    "ax1.set_ylabel(r'Mean-squared error', fontsize=36)\n",
    "ax1.legend(fontsize=30)\n",
    "ax1.tick_params(labelsize=30)\n",
    "\n",
    "# Plot the accuracy\n",
    "# fig, ax = plt.subplots(1, 1, figsize=(10,6))\n",
    "ax2.yaxis.set_major_formatter(FormatStrFormatter('%.2f'))\n",
    "ax2.plot(np.sqrt(history.history['r2_2']), 'r', label='Training',linewidth=3.0)\n",
    "ax2.plot(np.sqrt(history.history['val_r2_2']), 'b' ,label='Validation',linewidth=3.0)\n",
    "ax2.set_xlabel(r'Epoch', fontsize=36)\n",
    "ax2.set_ylabel(r'$R^2$', fontsize=36)\n",
    "ax2.legend(fontsize=30)\n",
    "ax2.tick_params(labelsize=30)"
   ]
  },
  {
   "cell_type": "code",
   "execution_count": null,
   "metadata": {},
   "outputs": [],
   "source": []
  },
  {
   "cell_type": "code",
   "execution_count": null,
   "metadata": {},
   "outputs": [],
   "source": []
  }
 ],
 "metadata": {
  "kernelspec": {
   "display_name": "Python 3",
   "language": "python",
   "name": "python3"
  },
  "language_info": {
   "codemirror_mode": {
    "name": "ipython",
    "version": 3
   },
   "file_extension": ".py",
   "mimetype": "text/x-python",
   "name": "python",
   "nbconvert_exporter": "python",
   "pygments_lexer": "ipython3",
   "version": "3.6.9"
  }
 },
 "nbformat": 4,
 "nbformat_minor": 4
}
